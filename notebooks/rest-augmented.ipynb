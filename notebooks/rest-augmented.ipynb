{
 "cells": [
  {
   "cell_type": "markdown",
   "metadata": {},
   "source": [
    "# OpenAI - REST Augmented"
   ]
  },
  {
   "cell_type": "code",
   "execution_count": null,
   "metadata": {
    "dotnet_interactive": {
     "language": "csharp"
    },
    "polyglot_notebook": {
     "kernelName": "csharp"
    }
   },
   "outputs": [],
   "source": [
    "#r \"nuget: dotenv.net\"\n",
    "#r \"nuget: Newtonsoft.Json\"\n",
    "\n",
    "using System;\n",
    "using System.Net.Http;\n",
    "using System.Net.Http.Headers;\n",
    "using System.Text.Json;\n",
    "using dotenv.net;\n",
    "\n",
    "#!import Models/OpenAIModels.cs\n",
    "\n",
    "// HttpClient Instance\n",
    "var client = new HttpClient();"
   ]
  },
  {
   "cell_type": "markdown",
   "metadata": {},
   "source": [
    "## Load the API KEY and URI"
   ]
  },
  {
   "cell_type": "code",
   "execution_count": null,
   "metadata": {
    "dotnet_interactive": {
     "language": "csharp"
    },
    "polyglot_notebook": {
     "kernelName": "csharp"
    }
   },
   "outputs": [],
   "source": [
    "DotEnv.Load();\n",
    "var uri = Environment.GetEnvironmentVariable(\"GPT_OPENAI_FULL_ENDPOINT\");\n",
    "var apiKey = Environment.GetEnvironmentVariable(\"GPT_OPENAI_KEY\");\n",
    "var deploymentName = Environment.GetEnvironmentVariable(\"DAVINCI_OPENAI_DEPLOYMENT_NAME\");\n",
    "var endpoint = Environment.GetEnvironmentVariable(\"DAVINCI_OPENAI_ENDPOINT\");\n",
    "Console.WriteLine($\"Using deployment at: {uri} with key {apiKey.Substring(0, 5)}...\");"
   ]
  },
  {
   "cell_type": "markdown",
   "metadata": {},
   "source": [
    "## Prepare the prompt"
   ]
  },
  {
   "cell_type": "code",
   "execution_count": null,
   "metadata": {
    "dotnet_interactive": {
     "language": "csharp"
    },
    "polyglot_notebook": {
     "kernelName": "csharp"
    }
   },
   "outputs": [],
   "source": [
    "// https://learn.microsoft.com/en-us/azure/aks/azure-cni-overlay\n",
    "\n",
    "var aksNetworking = @\"There are two types networking in Azure Kubernetes Service (AKS), Azure CNI overlay and Kubenet. \n",
    "CNI is well suited for 1000 nodes and 250 pods/node, there's no exatra configuration required, has higher performance, \n",
    "can work with network policies such as Calico, Cillium and Azure Network policies, and works on both Windows and Linux. \n",
    "Kubenet on the other hand, supports 400 nodes and 250 pods/node, \n",
    "has a more complex configuration, add an extra networking hop adding a minor latency, \n",
    "only supports Calico for network policies and only supports Linux.\";\n",
    "\n",
    "var template = @\"What are the networking options in AKS? Which one is recommended for performance? \n",
    "Use the following text to answer the question and if you do not know the answer say, I don't know.\n",
    "\n",
    "text: \"\"\"\"\"\"\n",
    "{{$input}}\n",
    "\"\"\"\"\"\"\";\n",
    "template = template.Replace(\"{{$input}}\", aksNetworking);\n",
    "\n",
    "var messages = new[]{new Message(\"user\", template)};\n",
    "\n",
    "var obj = new {\n",
    "    messages=messages, \n",
    "    max_tokens=200,\n",
    "    temperature=0.1\n",
    "};\n",
    "\n",
    "var json = JsonSerializer.Serialize(obj);\n",
    "var content = new StringContent(json, Encoding.UTF8, \"application/json\");"
   ]
  },
  {
   "cell_type": "code",
   "execution_count": null,
   "metadata": {
    "dotnet_interactive": {
     "language": "csharp"
    },
    "polyglot_notebook": {
     "kernelName": "csharp"
    }
   },
   "outputs": [],
   "source": [
    "var request = new HttpRequestMessage(HttpMethod.Post, uri);\n",
    "request.Headers.Accept.Add(new MediaTypeWithQualityHeaderValue(\"application/json\"));\n",
    "request.Headers.TryAddWithoutValidation(\"api-key\",apiKey);\n",
    "request.Content = content;\n",
    "\n",
    "var response = await client.SendAsync(request);\n",
    "if (response.IsSuccessStatusCode)\n",
    "{\n",
    "    var raw = await response.Content.ReadAsStringAsync();\n",
    "    var completion = JsonSerializer.Deserialize<Completion>(raw);\n",
    "    var responseJson = JsonDocument.Parse(raw);\n",
    "    Console.WriteLine(JsonSerializer.Serialize(responseJson, new JsonSerializerOptions { WriteIndented = true }));   \n",
    "    //Console.WriteLine(completion.choices[0].text);\n",
    "}\n",
    "else\n",
    "{\n",
    "    Console.WriteLine(response.StatusCode);\n",
    "}"
   ]
  }
 ],
 "metadata": {
  "kernelspec": {
   "display_name": ".NET (C#)",
   "language": "C#",
   "name": ".net-csharp"
  },
  "language_info": {
   "name": "polyglot-notebook"
  },
  "polyglot_notebook": {
   "kernelInfo": {
    "defaultKernelName": "csharp",
    "items": [
     {
      "aliases": [],
      "languageName": "csharp",
      "name": "csharp"
     }
    ]
   }
  }
 },
 "nbformat": 4,
 "nbformat_minor": 2
}
