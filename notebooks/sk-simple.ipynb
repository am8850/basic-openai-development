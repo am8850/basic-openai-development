{
 "cells": [
  {
   "cell_type": "markdown",
   "metadata": {},
   "source": [
    "# OpenAI - Semantic Kernel - Execuse Maker"
   ]
  },
  {
   "cell_type": "code",
   "execution_count": null,
   "metadata": {
    "dotnet_interactive": {
     "language": "csharp"
    },
    "polyglot_notebook": {
     "kernelName": "csharp"
    }
   },
   "outputs": [],
   "source": [
    "#r \"nuget: Microsoft.SemanticKernel, 0.17.230626.1-preview\"\n",
    "#r \"nuget: Microsoft.Extensions.Logging.Console\"\n",
    "#r \"nuget: dotenv.net\"\n",
    "\n",
    "using System.ComponentModel;\n",
    "using System.Net.Http;\n",
    "using Microsoft.Extensions.Logging;\n",
    "using Microsoft.SemanticKernel;\n",
    "using Microsoft.SemanticKernel.Skills.Core;\n",
    "using Microsoft.SemanticKernel.SkillDefinition;\n",
    "using Microsoft.SemanticKernel.Orchestration;\n",
    "using Microsoft.SemanticKernel.AI.ImageGeneration;\n",
    "using Microsoft.SemanticKernel.AI.ChatCompletion;\n",
    "using Microsoft.SemanticKernel.Connectors.AI.OpenAI.ChatCompletion;\n",
    "using dotenv.net;\n",
    "using InteractiveKernel = Microsoft.DotNet.Interactive.Kernel;\n",
    "\n",
    "#!import Utils/ConsoleLogger.cs"
   ]
  },
  {
   "cell_type": "markdown",
   "metadata": {},
   "source": [
    "## Load the API Key and URI"
   ]
  },
  {
   "cell_type": "code",
   "execution_count": null,
   "metadata": {
    "dotnet_interactive": {
     "language": "csharp"
    },
    "polyglot_notebook": {
     "kernelName": "csharp"
    }
   },
   "outputs": [],
   "source": [
    "DotEnv.Load();\n",
    "var uri = Environment.GetEnvironmentVariable(\"DAVINCI_OPENAI_FULL_ENDPOINT\");\n",
    "var apiKey = Environment.GetEnvironmentVariable(\"DAVINCI_OPENAI_KEY\");\n",
    "var deploymentName = Environment.GetEnvironmentVariable(\"DAVINCI_OPENAI_DEPLOYMENT_NAME\");\n",
    "var endpoint = Environment.GetEnvironmentVariable(\"DAVINCI_OPENAI_ENDPOINT\");\n",
    "Console.WriteLine($\"Using deployment at: {uri} with key {apiKey.Substring(0, 5)}...\");"
   ]
  },
  {
   "cell_type": "markdown",
   "metadata": {},
   "source": [
    "## Get a Kernel Instance"
   ]
  },
  {
   "cell_type": "code",
   "execution_count": null,
   "metadata": {
    "dotnet_interactive": {
     "language": "csharp"
    },
    "polyglot_notebook": {
     "kernelName": "csharp"
    }
   },
   "outputs": [],
   "source": [
    "IKernel kernel = new KernelBuilder()\n",
    "    .WithLogger(ConsoleLogger.Log)\n",
    "    .WithAzureTextCompletionService(deploymentName,endpoint, apiKey)\n",
    "    .Build();"
   ]
  },
  {
   "cell_type": "markdown",
   "metadata": {},
   "source": [
    "## Create an SK function"
   ]
  },
  {
   "cell_type": "code",
   "execution_count": null,
   "metadata": {
    "dotnet_interactive": {
     "language": "csharp"
    },
    "polyglot_notebook": {
     "kernelName": "csharp"
    }
   },
   "outputs": [],
   "source": [
    "const string FunctionDefinition = @\"\n",
    "Generate a creative reason or excuse for the given event.\n",
    "Be creative and be funny. Let your imagination run wild.\n",
    "\n",
    "Event: I am running late.\n",
    "Excuse: I was being held ransom by giraffe gangsters.\n",
    "\n",
    "Event: I haven't been to the gym for a year\n",
    "Excuse: I've been too busy training my pet dragon.\n",
    "\n",
    "Event: {{$input}}\n",
    "\";\n",
    "\n",
    "var excuseFunction = kernel.CreateSemanticFunction(FunctionDefinition, maxTokens: 100, temperature: 0.4, topP: 1);"
   ]
  },
  {
   "cell_type": "markdown",
   "metadata": {},
   "source": [
    "## Call the function"
   ]
  },
  {
   "cell_type": "code",
   "execution_count": null,
   "metadata": {
    "dotnet_interactive": {
     "language": "csharp"
    },
    "polyglot_notebook": {
     "kernelName": "csharp"
    }
   },
   "outputs": [],
   "source": [
    "SKContext result1 = await kernel.RunAsync(\"I missed your birthday\",\n",
    "    excuseFunction);\n",
    "\n",
    "Console.WriteLine(result1);"
   ]
  }
 ],
 "metadata": {
  "kernelspec": {
   "display_name": ".NET (C#)",
   "language": "C#",
   "name": ".net-csharp"
  },
  "language_info": {
   "name": "polyglot-notebook"
  },
  "polyglot_notebook": {
   "kernelInfo": {
    "defaultKernelName": "csharp",
    "items": [
     {
      "aliases": [],
      "languageName": "csharp",
      "name": "csharp"
     }
    ]
   }
  }
 },
 "nbformat": 4,
 "nbformat_minor": 2
}
