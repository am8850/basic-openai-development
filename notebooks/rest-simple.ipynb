{
 "cells": [
  {
   "cell_type": "markdown",
   "metadata": {},
   "source": [
    "# OpenAI - REST Simple"
   ]
  },
  {
   "cell_type": "code",
   "execution_count": null,
   "metadata": {
    "dotnet_interactive": {
     "language": "csharp"
    },
    "polyglot_notebook": {
     "kernelName": "csharp"
    }
   },
   "outputs": [],
   "source": [
    "#r \"nuget: dotenv.net\"\n",
    "\n",
    "using System;\n",
    "using System.Net.Http;\n",
    "using System.Net.Http.Headers;\n",
    "using System.Text.Json;\n",
    "using dotenv.net;"
   ]
  },
  {
   "cell_type": "markdown",
   "metadata": {},
   "source": [
    "## Load the API Key and URI"
   ]
  },
  {
   "cell_type": "code",
   "execution_count": null,
   "metadata": {
    "dotnet_interactive": {
     "language": "csharp"
    },
    "polyglot_notebook": {
     "kernelName": "csharp"
    }
   },
   "outputs": [],
   "source": [
    "DotEnv.Load();\n",
    "var uri = Environment.GetEnvironmentVariable(\"DAVINCI_OPENAI_FULL_ENDPOINT\");\n",
    "var apiKey = Environment.GetEnvironmentVariable(\"DAVINCI_OPENAI_KEY\");\n",
    "var deploymentName = Environment.GetEnvironmentVariable(\"DAVINCI_OPENAI_DEPLOYMENT_NAME\");\n",
    "var endpoint = Environment.GetEnvironmentVariable(\"DAVINCI_OPENAI_ENDPOINT\");\n",
    "Console.WriteLine($\"Using deployment at: {uri} with key {apiKey.Substring(0, 5)}...\");"
   ]
  },
  {
   "cell_type": "markdown",
   "metadata": {},
   "source": [
    "## Create a HttpClient Instance and a POST request"
   ]
  },
  {
   "cell_type": "code",
   "execution_count": null,
   "metadata": {
    "dotnet_interactive": {
     "language": "csharp"
    },
    "polyglot_notebook": {
     "kernelName": "csharp"
    }
   },
   "outputs": [],
   "source": [
    "var client = new HttpClient();\n",
    "var request = new HttpRequestMessage(HttpMethod.Post, uri);\n",
    "request.Headers.Accept.Add(new MediaTypeWithQualityHeaderValue(\"application/json\"));\n",
    "request.Headers.TryAddWithoutValidation(\"api-key\",apiKey);\n",
    "\n",
    "//client"
   ]
  },
  {
   "cell_type": "markdown",
   "metadata": {},
   "source": [
    "## Make the call"
   ]
  },
  {
   "cell_type": "code",
   "execution_count": null,
   "metadata": {
    "dotnet_interactive": {
     "language": "csharp"
    },
    "polyglot_notebook": {
     "kernelName": "csharp"
    }
   },
   "outputs": [],
   "source": [
    "// Prepare the prompt\n",
    "string prompt = \"What is the speed of light?\";\n",
    "Console.ForegroundColor = ConsoleColor.Green;\n",
    "Console.Write($\"Prompt:\\n\\n{prompt}\\n\\n\");\n",
    "\n",
    "// Prepare the json request body\n",
    "var json = \"{\\\"prompt\\\":\\\"{{$input}}\\\",\\\"max_tokens\\\":100}\".Replace(\"{{$input}}\", prompt);\n",
    "Console.WriteLine($\"JSON:\\n\\n{json}\\n\\n\");\n",
    "request.Content = new StringContent(json, Encoding.UTF8, \"application/json\");\n",
    "\n",
    "// Make the request\n",
    "var response = await client.SendAsync(request);\n",
    "if (response.IsSuccessStatusCode)\n",
    "{\n",
    "    var raw = await response.Content.ReadAsStringAsync();\n",
    "    var responseJson = JsonDocument.Parse(raw);\n",
    "    // Print the response\n",
    "    Console.WriteLine(JsonSerializer.Serialize(responseJson, new JsonSerializerOptions { WriteIndented = true }));   \n",
    "}\n",
    "else\n",
    "{\n",
    "    Console.WriteLine(response.StatusCode);\n",
    "}"
   ]
  }
 ],
 "metadata": {
  "kernelspec": {
   "display_name": ".NET (C#)",
   "language": "C#",
   "name": ".net-csharp"
  },
  "language_info": {
   "name": "polyglot-notebook"
  },
  "polyglot_notebook": {
   "kernelInfo": {
    "defaultKernelName": "csharp",
    "items": [
     {
      "aliases": [],
      "languageName": "csharp",
      "name": "csharp"
     }
    ]
   }
  }
 },
 "nbformat": 4,
 "nbformat_minor": 2
}
